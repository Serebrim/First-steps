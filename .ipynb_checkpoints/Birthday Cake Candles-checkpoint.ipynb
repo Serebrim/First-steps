{
 "cells": [
  {
   "cell_type": "code",
   "execution_count": 1,
   "id": "1e8b9b77",
   "metadata": {},
   "outputs": [],
   "source": [
    "def birthdayCakeCandles(candles):\n",
    "    # Write your code here\n",
    "    # Find the maximum height of the candles\n",
    "    max_height = max(candles)\n",
    "    \n",
    "    # Count how many candles have the maximum height\n",
    "    count = candles.count(max_height)\n",
    "    \n",
    "    # Return the count\n",
    "    return count"
   ]
  },
  {
   "cell_type": "code",
   "execution_count": 2,
   "id": "bd4e9366",
   "metadata": {},
   "outputs": [
    {
     "name": "stdout",
     "output_type": "stream",
     "text": [
      "2\n"
     ]
    }
   ],
   "source": [
    "my_candles = [3, 2, 1, 3]\n",
    "num_tallest_candles = birthdayCakeCandles(my_candles)\n",
    "print(num_tallest_candles)"
   ]
  },
  {
   "cell_type": "code",
   "execution_count": null,
   "id": "2139b20b",
   "metadata": {},
   "outputs": [],
   "source": []
  }
 ],
 "metadata": {
  "kernelspec": {
   "display_name": "Python 3 (ipykernel)",
   "language": "python",
   "name": "python3"
  },
  "language_info": {
   "codemirror_mode": {
    "name": "ipython",
    "version": 3
   },
   "file_extension": ".py",
   "mimetype": "text/x-python",
   "name": "python",
   "nbconvert_exporter": "python",
   "pygments_lexer": "ipython3",
   "version": "3.9.12"
  }
 },
 "nbformat": 4,
 "nbformat_minor": 5
}
