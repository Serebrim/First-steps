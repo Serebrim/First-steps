{
 "cells": [
  {
   "cell_type": "code",
   "execution_count": 1,
   "id": "fb2d7a39",
   "metadata": {},
   "outputs": [],
   "source": [
    "def plusMinus(arr):\n",
    "    # Write your code here\n",
    "    n = len(arr)\n",
    "    pos = neg = zero = 0\n",
    "    for i in range(n):\n",
    "        if arr[i]>0:\n",
    "            pos += 1\n",
    "        elif arr[i]<0:\n",
    "            neg += 1\n",
    "        else:\n",
    "            zero+=1\n",
    "    print(\"{:.6f}\".format(pos/n))\n",
    "    print(\"{:.6f}\".format(neg/n))\n",
    "    print(\"{:.6f}\".format(zero/n))"
   ]
  },
  {
   "cell_type": "code",
   "execution_count": null,
   "id": "0679dbfa",
   "metadata": {},
   "outputs": [],
   "source": []
  }
 ],
 "metadata": {
  "kernelspec": {
   "display_name": "Python 3 (ipykernel)",
   "language": "python",
   "name": "python3"
  },
  "language_info": {
   "codemirror_mode": {
    "name": "ipython",
    "version": 3
   },
   "file_extension": ".py",
   "mimetype": "text/x-python",
   "name": "python",
   "nbconvert_exporter": "python",
   "pygments_lexer": "ipython3",
   "version": "3.9.12"
  }
 },
 "nbformat": 4,
 "nbformat_minor": 5
}
